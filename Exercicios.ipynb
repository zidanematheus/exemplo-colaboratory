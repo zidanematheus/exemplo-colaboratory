{
  "nbformat": 4,
  "nbformat_minor": 0,
  "metadata": {
    "colab": {
      "provenance": [],
      "authorship_tag": "ABX9TyPQVtji015ZQIlZg0rBc1dP",
      "include_colab_link": true
    },
    "kernelspec": {
      "name": "python3",
      "display_name": "Python 3"
    },
    "language_info": {
      "name": "python"
    }
  },
  "cells": [
    {
      "cell_type": "markdown",
      "metadata": {
        "id": "view-in-github",
        "colab_type": "text"
      },
      "source": [
        "<a href=\"https://colab.research.google.com/github/zidanematheus/exemplo-colaboratory/blob/main/Exercicios.ipynb\" target=\"_parent\"><img src=\"https://colab.research.google.com/assets/colab-badge.svg\" alt=\"Open In Colab\"/></a>"
      ]
    },
    {
      "cell_type": "code",
      "execution_count": null,
      "metadata": {
        "colab": {
          "base_uri": "https://localhost:8080/"
        },
        "id": "awEbBCXfhX_H",
        "outputId": "0436d0db-f9f9-485d-daba-5545f2ca6e6f"
      },
      "outputs": [
        {
          "output_type": "stream",
          "name": "stdout",
          "text": [
            "Olá, Mundo!\n"
          ]
        }
      ],
      "source": [
        "# Exercício 1\n",
        "\n",
        "print(f'Olá, Mundo!')"
      ]
    },
    {
      "cell_type": "code",
      "source": [
        "# Exercício 2\n",
        "\n",
        "num = input('Digite um número: ')\n",
        "print(f'O número digitado foi: {num}')\n",
        "\n",
        "num = float(input('Digite um número: '))\n",
        "print(f'O número digitado foi: {num}')\n"
      ],
      "metadata": {
        "colab": {
          "base_uri": "https://localhost:8080/"
        },
        "id": "pnHZ2-nfiFcw",
        "outputId": "77106295-2d22-4203-b88e-5b38d1d35355"
      },
      "execution_count": null,
      "outputs": [
        {
          "output_type": "stream",
          "name": "stdout",
          "text": [
            "Digite um número: 5\n",
            "O número digitado foi: 5\n",
            "Digite um número: 4\n",
            "O número digitado foi: 4.0\n"
          ]
        }
      ]
    },
    {
      "cell_type": "code",
      "source": [
        "# Exercício 3\n",
        "\n",
        "nome = input('Digite seu nome: ').strip().title()\n",
        "sobrenome = input('Digite seu sobrenome: ').strip().title()\n",
        "print(f'Seu nome completo é: {nome} {sobrenome}!')\n"
      ],
      "metadata": {
        "colab": {
          "base_uri": "https://localhost:8080/"
        },
        "id": "tj6NfQYiiih2",
        "outputId": "de4a674a-941b-4c98-9085-8b3dc2f49b79"
      },
      "execution_count": null,
      "outputs": [
        {
          "output_type": "stream",
          "name": "stdout",
          "text": [
            "Digite seu nome: matheus\n",
            "Digite seu sobrenome: lima da silva\n",
            "Seu nome completo é: Matheus Lima Da Silva!\n"
          ]
        }
      ]
    },
    {
      "cell_type": "code",
      "source": [
        "# Exercício 4\n",
        "\n",
        "n1 = int(input('Digite o primeiro número: '))\n",
        "n2 = int(input('Digite o segundo número: '))\n",
        "n3 = int(input('Digite o terceiro número: '))\n",
        "print(f'{n1}+{n2}+{n3} = { n1 + n2 + n3 }')\n"
      ],
      "metadata": {
        "colab": {
          "base_uri": "https://localhost:8080/"
        },
        "id": "c3Esy0vcjR1V",
        "outputId": "43e6325f-650b-4de3-e37f-892738dd072a"
      },
      "execution_count": null,
      "outputs": [
        {
          "output_type": "stream",
          "name": "stdout",
          "text": [
            "Digite o primeiro número: 2\n",
            "Digite o segundo número: 3\n",
            "Digite o terceiro número: 4\n",
            "2+3+4 = 9\n"
          ]
        }
      ]
    },
    {
      "cell_type": "code",
      "source": [
        "# Exercício 5\n",
        "\n",
        "n1 = float(input('Nota 1: '))\n",
        "n2 = float(input('Nota 2: '))\n",
        "media = (n1 + n2) / 2\n",
        "print(f'A média das notas é: {media}')\n"
      ],
      "metadata": {
        "colab": {
          "base_uri": "https://localhost:8080/"
        },
        "id": "79OvF6RNk6lZ",
        "outputId": "abafaf3e-8c6a-4324-fabb-92fdf74310ba"
      },
      "execution_count": null,
      "outputs": [
        {
          "output_type": "stream",
          "name": "stdout",
          "text": [
            "Nota 1: 7.5\n",
            "Nota 2: 2.5\n",
            "A média das notas é: 5.0\n"
          ]
        }
      ]
    },
    {
      "cell_type": "code",
      "source": [
        "# Exercício 6\n",
        "\n",
        "n = int(input('Digite um número: '))\n",
        "r = n * n\n",
        "print(f'A raiz quadrada de {n} é: {r}')\n"
      ],
      "metadata": {
        "id": "HcfjusYtlvOl",
        "colab": {
          "base_uri": "https://localhost:8080/"
        },
        "outputId": "48b0f01f-e702-4ae6-b49e-9ec56c5a463c"
      },
      "execution_count": null,
      "outputs": [
        {
          "output_type": "stream",
          "name": "stdout",
          "text": [
            "Digite um número: 3\n",
            "A raiz quadrada de 3 é 9\n"
          ]
        }
      ]
    },
    {
      "cell_type": "code",
      "source": [
        "# Exercício 7\n",
        "\n",
        "n1 = float(input('N° 1: '))\n",
        "n2 = float(input('N° 2: '))\n",
        "n3 = float(input('N° 3: '))\n",
        "n4 = float(input('N° 4: '))\n",
        "n5 = float(input('N° 5: '))\n",
        "media = ( n1 + n2 + n3 + n4 + n5 ) / 5\n",
        "print(f'A média dos 5 números digitados é {media}')\n"
      ],
      "metadata": {
        "colab": {
          "base_uri": "https://localhost:8080/"
        },
        "id": "oKfqoC9bE1JD",
        "outputId": "c29be2ef-0cf2-4db7-efa2-38fc80f3414f"
      },
      "execution_count": null,
      "outputs": [
        {
          "output_type": "stream",
          "name": "stdout",
          "text": [
            "Digite o n° 1: 1\n",
            "Digite o n° 2: 2\n",
            "Digite o n° 3: 3\n",
            "Digite o n° 4: 4\n",
            "Digite o n° 5: 5\n",
            "A média dos 5 números digitados é 3.0\n"
          ]
        }
      ]
    },
    {
      "cell_type": "code",
      "source": [
        "# Exercício 8\n",
        "\n",
        "num = float(input('Digite um valor em metros: '))\n",
        "print(f'{num} metros equivale a {num/1000} quilometros')\n"
      ],
      "metadata": {
        "colab": {
          "base_uri": "https://localhost:8080/"
        },
        "id": "ab2TdT1JFhIZ",
        "outputId": "58588b04-1f6e-46d8-fd2c-db87a2637a43"
      },
      "execution_count": null,
      "outputs": [
        {
          "output_type": "stream",
          "name": "stdout",
          "text": [
            "Digite um valor em metros: 1\n",
            "1.0 metros equivale a 0.001 quilometros\n"
          ]
        }
      ]
    },
    {
      "cell_type": "code",
      "source": [
        "# Exercício 9\n",
        "\n",
        "from math import pi\n",
        "raio = float(input('Digite o valor do raio da circunferência: '))\n",
        "print(f'Área da circunferência: {pi*raio**2:.2f}')\n"
      ],
      "metadata": {
        "colab": {
          "base_uri": "https://localhost:8080/"
        },
        "id": "0iEb-0VDGIjB",
        "outputId": "9ec9a3e3-875f-495c-9bc6-f089caa37eb0"
      },
      "execution_count": null,
      "outputs": [
        {
          "output_type": "stream",
          "name": "stdout",
          "text": [
            "Digite o valor do raio da circunferência: 3\n",
            "Área da circunferência: 28.27\n"
          ]
        }
      ]
    },
    {
      "cell_type": "code",
      "source": [
        "# Exercício 10\n",
        "\n",
        "f = float(input('Temperatura em Fahrenheit: '))\n",
        "c = 5 * ((f-32)/9)\n",
        "print(f'{f:.2f}ºF equivale a {c:.2f}ºC')\n"
      ],
      "metadata": {
        "colab": {
          "base_uri": "https://localhost:8080/"
        },
        "id": "fdtg6in-HY-2",
        "outputId": "dc8d9f7d-959b-4f6c-ea36-396b200fe8f4"
      },
      "execution_count": null,
      "outputs": [
        {
          "output_type": "stream",
          "name": "stdout",
          "text": [
            "Temperatura em Fahrenheit: 50\n",
            "50.00ºF equivale a 10.00ºC\n"
          ]
        }
      ]
    },
    {
      "cell_type": "code",
      "source": [
        "# Exercício 11\n",
        "\n",
        "n1 = float(input('Número 1: '))\n",
        "n2 = float(input('Número 2: '))\n",
        "print(f'{n1} x {n2} = {n1 * n2}\\n{n1} / {n2} = {n1 / 2}')\n"
      ],
      "metadata": {
        "id": "DbZzwhu5IYUq",
        "colab": {
          "base_uri": "https://localhost:8080/"
        },
        "outputId": "6af6b213-d19a-4dd3-e304-ebc23e49c6bb"
      },
      "execution_count": null,
      "outputs": [
        {
          "output_type": "stream",
          "name": "stdout",
          "text": [
            "Número 1: 3\n",
            "Número 2: 3\n",
            "3.0 x 3.0 = 9.0\n",
            "3.0 / 3.0 = 1.5\n"
          ]
        }
      ]
    },
    {
      "cell_type": "code",
      "source": [
        "# Exercício 12\n",
        "\n",
        "nome = input('Nome: ')\n",
        "sobrenome = input('Sobrenome: ')\n",
        "idade = int(input('Idade: '))\n",
        "print(f'Seja bem-vindo(a) {nome.strip().title()} {sobrenome.strip().title()}')\n",
        "print(f'Você possui {idade} anos de idade.')\n"
      ],
      "metadata": {
        "colab": {
          "base_uri": "https://localhost:8080/"
        },
        "id": "A1RncYYOE-8t",
        "outputId": "6d4e4a77-943f-4f35-ca88-5eddde7a5290"
      },
      "execution_count": null,
      "outputs": [
        {
          "output_type": "stream",
          "name": "stdout",
          "text": [
            "Nome: matheus\n",
            "Sobrenome: lima da silva andrade\n",
            "Idade: 28\n",
            "Seja bem-vindo(a) Matheus Lima Da Silva Andrade\n",
            "Você possui 28 anos de idade.\n"
          ]
        }
      ]
    },
    {
      "cell_type": "code",
      "source": [
        "# Exercício 13\n",
        "\n",
        "n = input('Digite um número: ')\n",
        "n = float(n)\n",
        "print(type(n))\n"
      ],
      "metadata": {
        "colab": {
          "base_uri": "https://localhost:8080/"
        },
        "id": "gJKm_KfqGC88",
        "outputId": "a806a70a-3a4a-48d9-8af9-66d203b0ad91"
      },
      "execution_count": null,
      "outputs": [
        {
          "output_type": "stream",
          "name": "stdout",
          "text": [
            "Digite um número: 5\n",
            "<class 'float'>\n"
          ]
        }
      ]
    },
    {
      "cell_type": "code",
      "source": [
        "# Exercício 14\n",
        "\n",
        "nome = input('Nome: ')\n",
        "idade = int(input('Idade: '))\n",
        "if idade >= 18:\n",
        "  print(f'Seja bem-vindo ao nosso site {nome.strip().title()}!')\n",
        "else:\n",
        "  print(f'Você não pode acessar nosso site {nome.strip().title()}.')\n"
      ],
      "metadata": {
        "colab": {
          "base_uri": "https://localhost:8080/"
        },
        "id": "FyMhggOfG53D",
        "outputId": "a0e3d756-90e0-4cbc-edab-741583818d0b"
      },
      "execution_count": null,
      "outputs": [
        {
          "output_type": "stream",
          "name": "stdout",
          "text": [
            "Nome: matheus\n",
            "Idade: 17\n",
            "Você não pode acessar nosso site Matheus.\n"
          ]
        }
      ]
    },
    {
      "cell_type": "code",
      "source": [
        "# Exercício 15\n",
        "\n",
        "from math import hypot\n",
        "\n",
        "cateto_a = float(input('Cateto adjacente: '))\n",
        "cateto_o = float(input('Cateto oposto: '))\n",
        "\n",
        "# Forma de cálculo 1\n",
        "hipotenusa1 = (cateto_a**2+cateto_o**2)**(1/2)\n",
        "\n",
        "# Forma de cálculo 2\n",
        "hipotenusa2 = hypot(cateto_a,cateto_o)\n",
        "\n",
        "print(f'Hipotenusa: {hipotenusa1}')\n",
        "print(f'Hipotenusa: {hipotenusa2}')\n"
      ],
      "metadata": {
        "colab": {
          "base_uri": "https://localhost:8080/"
        },
        "id": "VpAQR6OzHiYa",
        "outputId": "5bf13323-a271-4851-ab18-b2021119eb3b"
      },
      "execution_count": null,
      "outputs": [
        {
          "output_type": "stream",
          "name": "stdout",
          "text": [
            "Cateto adjacente: 10\n",
            "Cateto oposto: 10\n",
            "Hipotenusa: 14.142135623730951\n",
            "Hipotenusa: 14.142135623730951\n"
          ]
        }
      ]
    },
    {
      "cell_type": "code",
      "source": [
        "# Exercício 16\n",
        "\n",
        "from math import factorial\n",
        "num = int(input('Digite um número inteiro: '))\n",
        "fatorial = factorial(num)\n",
        "print(f'O fatorial de {num} é {fatorial}')\n"
      ],
      "metadata": {
        "colab": {
          "base_uri": "https://localhost:8080/"
        },
        "id": "WLF7oxtvJWbm",
        "outputId": "fbb35597-b661-46f2-b91e-d00ae7461512"
      },
      "execution_count": null,
      "outputs": [
        {
          "output_type": "stream",
          "name": "stdout",
          "text": [
            "Digite um número inteiro: 5\n",
            "O fatorial de 5 é 120\n"
          ]
        }
      ]
    },
    {
      "cell_type": "code",
      "source": [
        "# Exercício 17\n",
        "\n",
        "from math import log, log10\n",
        "num = float(input('Digite um número: '))\n",
        "log1 = log10(num)\n",
        "log2 = log(num, 2)\n",
        "print(f'O log de {num} na base 10 é {log1}')\n",
        "print(f'O log de {num} na base 2 é {log2}')\n"
      ],
      "metadata": {
        "colab": {
          "base_uri": "https://localhost:8080/"
        },
        "id": "Mk3VvVOKJz2y",
        "outputId": "630de84a-49a8-429b-f99d-13373e66a0d8"
      },
      "execution_count": null,
      "outputs": [
        {
          "output_type": "stream",
          "name": "stdout",
          "text": [
            "Digite um número: 12\n",
            "O log de 12.0 na base 10 é 1.0791812460476249\n",
            "O log de 12.0 na base 2 é 3.5849625007211565\n"
          ]
        }
      ]
    },
    {
      "cell_type": "code",
      "source": [
        "# Exercício 18\n",
        "\n",
        "base = float(input('Digite a base do retângulo: '))\n",
        "altura = float(input('Digite a altura do retângulo: '))\n",
        "\n",
        "area = base * altura\n",
        "perimetro = 2 * base + 2 * altura\n",
        "\n",
        "print(f'O retângulo digitado tem base {base} e altura {altura}.')\n",
        "print(f'A área deste retângulo é: {area}.')\n",
        "print(f'O perímetro deste retângulo é: {perimetro}.')\n"
      ],
      "metadata": {
        "colab": {
          "base_uri": "https://localhost:8080/"
        },
        "id": "QoBzBPNjKjhj",
        "outputId": "2d67348e-48e8-4ad0-da5d-e21c8ec71c47"
      },
      "execution_count": null,
      "outputs": [
        {
          "output_type": "stream",
          "name": "stdout",
          "text": [
            "Digite a base do retângulo: 2\n",
            "Digite a altura do retângulo: 4\n",
            "O retângulo digitado tem base 2.0 e altura 4.0.\n",
            "A área deste retângulo é: 8.0.\n",
            "O perímetro deste retângulo é: 12.0.\n"
          ]
        }
      ]
    },
    {
      "cell_type": "code",
      "source": [
        "# Exercício 19\n",
        "\n",
        "nome = input('Nome: ').strip().title()\n",
        "sobrenome = input('Sobrenome: ').strip().title()\n",
        "salario = float(input('Salário: '))\n",
        "salario1 = salario + salario * 0.1  #salário com 10% de aumento\n",
        "salario2 = salario + salario * 0.25  #salário com 25% de aumento\n",
        "salario3 = salario + salario * 0.3  #salário com 30% de aumento\n",
        "salario4 = salario + salario * 0.5  #salário com 50% de aumento\n",
        "print(f'Olá, {nome} {sobrenome}!')\n",
        "print(f'Seu salário atual é: R$ {salario:.2f}.')\n",
        "print(f'Seu salário com 10% de aumento é: R$ {salario1:.2f}')\n",
        "print(f'Seu salário com 25% de aumento é: R$ {salario2:.2f}')\n",
        "print(f'Seu salário com 30% de aumento é: R$ {salario3:.2f}')\n",
        "print(f'Seu salário com 50% de aumento é: R$ {salario4:.2f}')\n"
      ],
      "metadata": {
        "colab": {
          "base_uri": "https://localhost:8080/"
        },
        "id": "U52ltiqCLVk7",
        "outputId": "3edb2624-4561-4099-beee-e9e0618bc06d"
      },
      "execution_count": null,
      "outputs": [
        {
          "output_type": "stream",
          "name": "stdout",
          "text": [
            "Nome: matheus\n",
            "Sobrenome: lima da silva andrade\n",
            "Salário: 1483\n",
            "Olá, Matheus Lima Da Silva Andrade!\n",
            "Seu salário atual é: R$ 1483.00.\n",
            "Seu salário com 10% de aumento é: R$ 1631.30\n",
            "Seu salário com 25% de aumento é: R$ 1853.75\n",
            "Seu salário com 30% de aumento é: R$ 1927.90\n",
            "Seu salário com 50% de aumento é: R$ 2224.50\n"
          ]
        }
      ]
    },
    {
      "cell_type": "code",
      "source": [
        "# Exercício 20\n",
        "\n",
        "num = int(input('Digite um número inteiro: '))\n",
        "print(f'Tabuada do número {num}.')\n",
        "print(f'{num} x 1 = {num*1}')\n",
        "print(f'{num} x 2 = {num*2}')\n",
        "print(f'{num} x 3 = {num*3}')\n",
        "print(f'{num} x 4 = {num*4}')\n",
        "print(f'{num} x 5 = {num*5}')\n",
        "print(f'{num} x 6 = {num*6}')\n",
        "print(f'{num} x 7 = {num*7}')\n",
        "print(f'{num} x 8 = {num*8}')\n",
        "print(f'{num} x 9 = {num*9}')\n",
        "print(f'{num} x 10 = {num*10}')\n"
      ],
      "metadata": {
        "id": "py0VhItlMj_s",
        "colab": {
          "base_uri": "https://localhost:8080/"
        },
        "outputId": "b69577c1-28cf-406a-f5f4-e223a22a4a65"
      },
      "execution_count": null,
      "outputs": [
        {
          "output_type": "stream",
          "name": "stdout",
          "text": [
            "Digite um número inteiro: 2\n",
            "Tabuada do número 2.\n",
            "2 x 1 = 2\n",
            "2 x 2 = 4\n",
            "2 x 3 = 6\n",
            "2 x 4 = 8\n",
            "2 x 5 = 10\n",
            "2 x 6 = 12\n",
            "2 x 7 = 14\n",
            "2 x 8 = 16\n",
            "2 x 9 = 18\n",
            "2 x 10 = 20\n"
          ]
        }
      ]
    },
    {
      "cell_type": "code",
      "source": [
        "# Exercício 21\n",
        "\n",
        "num = int(input('Digite um número inteiro: '))\n",
        "print(f'O valor absoluto de {num} é: {abs(num)}.')\n"
      ],
      "metadata": {
        "id": "bICqWe1SRCCj",
        "colab": {
          "base_uri": "https://localhost:8080/"
        },
        "outputId": "a0180b3b-40c8-4ee8-f5a9-a3817050562d"
      },
      "execution_count": null,
      "outputs": [
        {
          "output_type": "stream",
          "name": "stdout",
          "text": [
            "Digite um número inteiro: 3\n",
            "O valor absoluto de 3 é: 3.\n"
          ]
        }
      ]
    },
    {
      "cell_type": "code",
      "source": [
        "# Exercício 22\n",
        "\n",
        "string = input('Digite algo: ').strip().title()\n",
        "print(f'Você digitou: {string}')\n",
        "print(f'A quantidade de caracteres que você digitou é: {len(string)}.')\n"
      ],
      "metadata": {
        "colab": {
          "base_uri": "https://localhost:8080/"
        },
        "id": "Jh5BEDQpOAjJ",
        "outputId": "810a7e64-f1ec-4635-ce5a-918849846da8"
      },
      "execution_count": null,
      "outputs": [
        {
          "output_type": "stream",
          "name": "stdout",
          "text": [
            "Digite algo: matheus\n",
            "Você digitou: Matheus\n",
            "A quantidade de caracteres que você digitou é: 7.\n"
          ]
        }
      ]
    },
    {
      "cell_type": "code",
      "source": [
        "# Exercício 23\n",
        "\n",
        "num = int(input('Digite um número inteiro: '))\n",
        "if num % 2 == 0:\n",
        "  print(f'O número {num} é par.')\n",
        "else:\n",
        "  print(f'O número {num} é ímpar.')\n"
      ],
      "metadata": {
        "colab": {
          "base_uri": "https://localhost:8080/"
        },
        "id": "BLDINm4cOsq3",
        "outputId": "a47209db-aaa4-4db4-e0cc-07ae9749afc9"
      },
      "execution_count": null,
      "outputs": [
        {
          "output_type": "stream",
          "name": "stdout",
          "text": [
            "Digite um número inteiro: 6\n",
            "O número 6 é par.\n"
          ]
        }
      ]
    },
    {
      "cell_type": "code",
      "source": [
        "# Exercício 24\n",
        "\n",
        "print('Cálculo do IMC')\n",
        "nome = input('Nome: ').strip().title()\n",
        "idade = int(input('Idade: '))\n",
        "peso = float(input('Peso: '))\n",
        "altura = float(input('Altura: '))\n",
        "imc = peso / (altura * altura)\n",
        "print('Processando seus dados...')\n",
        "if imc < 17:\n",
        "  print(f'Muito abaixo do peso ideal.')\n",
        "elif 17 <= imc < 18.5:\n",
        "  print(f'Abaixo do peso.')\n",
        "elif 18.5 <= imc < 25:\n",
        "  print(f'Peso normal.')\n",
        "elif 25 <= imc < 30:\n",
        "  print(f'Acima do peso.')\n",
        "elif 30 <= imc < 35:\n",
        "  print(f'Obesidade I.')\n",
        "elif 35 <= imc < 40:\n",
        "  print(f'Obesidade II (Severa).')\n",
        "else:\n",
        "  print(f'Obesidade III (Morbida).')\n"
      ],
      "metadata": {
        "colab": {
          "base_uri": "https://localhost:8080/"
        },
        "id": "ViqlgwBPPno2",
        "outputId": "8c5b14d6-4f39-413f-c885-c469143776ee"
      },
      "execution_count": null,
      "outputs": [
        {
          "output_type": "stream",
          "name": "stdout",
          "text": [
            "Cálculo do IMC\n",
            "Nome: matheus\n",
            "Idade: 28\n",
            "Peso: 59\n",
            "Altura: 1.74\n",
            "Processando seus dados...\n",
            "Peso normal.\n"
          ]
        }
      ]
    },
    {
      "cell_type": "code",
      "source": [
        "# Exercício 25\n",
        "\n",
        "n1 = float(input('Valor 1: '))\n",
        "n2 = float(input('Valor 2: '))\n",
        "if n1 > n2:\n",
        "  print(f'{n1} é maior que {n2}.')\n",
        "elif n1 < n2:\n",
        "  print(f'{n2} é maior que {n1}')\n",
        "else:\n",
        "  print(f'Os dois valores são iguais.')\n"
      ],
      "metadata": {
        "colab": {
          "base_uri": "https://localhost:8080/"
        },
        "id": "b30uPHvnRjo_",
        "outputId": "97e6b4ca-ee61-47c5-e002-faa529ca73b9"
      },
      "execution_count": null,
      "outputs": [
        {
          "output_type": "stream",
          "name": "stdout",
          "text": [
            "Valor 1: 1.1\n",
            "Valor 2: 1.1\n",
            "Os dois valores são iguais.\n"
          ]
        }
      ]
    },
    {
      "cell_type": "code",
      "source": [
        "# Exercício 26\n",
        "\n",
        "num = float(input('Digite um número: '))\n",
        "if num > 0:\n",
        "  print(f'Número positivo.')\n",
        "elif num == 0:\n",
        "  print(f'Número nulo.')\n",
        "else:\n",
        "  print('Número negativo.')\n"
      ],
      "metadata": {
        "colab": {
          "base_uri": "https://localhost:8080/"
        },
        "id": "Hy7VlzwyTHRI",
        "outputId": "1e5f6924-8d96-4f5e-95c5-ef6d1551ba4d"
      },
      "execution_count": null,
      "outputs": [
        {
          "output_type": "stream",
          "name": "stdout",
          "text": [
            "Digite um número: -1\n",
            "Número negativo.\n"
          ]
        }
      ]
    },
    {
      "cell_type": "code",
      "source": [
        "# Exercício 27\n",
        "\n",
        "n1 = float(input('Valor 1: '))\n",
        "n2 = float(input('Valor 2: '))\n",
        "n3 = float(input('Valor 3: '))\n",
        "if ( n1 >= n2 ) and ( n1 >= n3 ):\n",
        "  print(f'Maior valor: {n1}.')\n",
        "elif (n2 >= n1) and ( n2 >= n3):\n",
        "  print(f'Maior valor: {n2}.')\n",
        "else:\n",
        "  print(f'Maior valor: {n3}.')\n"
      ],
      "metadata": {
        "colab": {
          "base_uri": "https://localhost:8080/"
        },
        "id": "3R1v-CKtUK6f",
        "outputId": "82e79c89-815c-4ef2-e2a3-fc7cc6c7dbc6"
      },
      "execution_count": null,
      "outputs": [
        {
          "output_type": "stream",
          "name": "stdout",
          "text": [
            "Valor 1: 1\n",
            "Valor 2: 2\n",
            "Valor 3: 3\n",
            "Maior valor: 3.0.\n"
          ]
        }
      ]
    },
    {
      "cell_type": "code",
      "source": [
        "# Exercício 28\n",
        "\n",
        "import random\n",
        "n = random.randint(1, 100)\n",
        "print(n)\n"
      ],
      "metadata": {
        "colab": {
          "base_uri": "https://localhost:8080/"
        },
        "id": "w2ZejONAU-eW",
        "outputId": "92fd796d-38d8-4526-d6c4-cf8d92b1f1a8"
      },
      "execution_count": null,
      "outputs": [
        {
          "output_type": "stream",
          "name": "stdout",
          "text": [
            "38\n"
          ]
        }
      ]
    },
    {
      "cell_type": "code",
      "source": [
        "# Exercício 29\n",
        "\n",
        "ano = int(input('Ano: '))\n",
        "if ano%400==0 or (ano%4==0 and not ano%100==0):\n",
        "  print(f'Ano bissexto.')\n",
        "else:\n",
        "  print(f'Não é ano bissexto.')\n"
      ],
      "metadata": {
        "colab": {
          "base_uri": "https://localhost:8080/"
        },
        "id": "0yKsEBCkWRx4",
        "outputId": "408d3914-54fd-4ca9-9a9b-8ed469410cfd"
      },
      "execution_count": null,
      "outputs": [
        {
          "output_type": "stream",
          "name": "stdout",
          "text": [
            "Ano: 2024\n",
            "Ano bissexto.\n"
          ]
        }
      ]
    },
    {
      "cell_type": "code",
      "source": [
        "# Exercício 30\n",
        "\n",
        "string = input('Digite algo: ')\n",
        "print(len(string))\n"
      ],
      "metadata": {
        "colab": {
          "base_uri": "https://localhost:8080/"
        },
        "id": "wjwAZXnMX3EX",
        "outputId": "1eb2e358-346f-4402-af7f-d3d677736c4e"
      },
      "execution_count": null,
      "outputs": [
        {
          "output_type": "stream",
          "name": "stdout",
          "text": [
            "Digite algo: matheus\n",
            "7\n"
          ]
        }
      ]
    },
    {
      "cell_type": "code",
      "source": [
        "# Exercício 31\n",
        "\n",
        "import datetime\n",
        "\n",
        "data_atual = datetime.datetime.now()\n",
        "print(data_atual.strftime('%d/%m/%Y - %H:%M:%S'))\n"
      ],
      "metadata": {
        "id": "8Uhui7CDbRi8",
        "colab": {
          "base_uri": "https://localhost:8080/"
        },
        "outputId": "7a5be112-aa76-4dc7-f277-0c6de01d082b"
      },
      "execution_count": null,
      "outputs": [
        {
          "output_type": "stream",
          "name": "stdout",
          "text": [
            "31/01/2024 - 13:39:15\n"
          ]
        }
      ]
    },
    {
      "cell_type": "code",
      "source": [
        "# Exercício 32\n",
        "\n",
        "string1 = 'Hello World'\n",
        "string2 = 'Python'\n",
        "print(string1)\n",
        "print(string2)\n",
        "print(string1[::-1])\n",
        "print(string2[::-1])\n"
      ],
      "metadata": {
        "colab": {
          "base_uri": "https://localhost:8080/"
        },
        "id": "HU_MlUDyvnYB",
        "outputId": "e5a449fa-827b-46a4-a8df-a220eb0f4ade"
      },
      "execution_count": null,
      "outputs": [
        {
          "output_type": "stream",
          "name": "stdout",
          "text": [
            "Hello World\n",
            "Python\n",
            "dlroW olleH\n",
            "nohtyP\n"
          ]
        }
      ]
    },
    {
      "cell_type": "code",
      "source": [
        "# Exercício 33\n",
        "\n",
        "import calendar\n",
        "print(calendar.month(2024, 1))\n"
      ],
      "metadata": {
        "colab": {
          "base_uri": "https://localhost:8080/"
        },
        "id": "UrPpkLB9wOQ4",
        "outputId": "37c40e6b-055a-48d0-f9b2-ffa666f37e49"
      },
      "execution_count": null,
      "outputs": [
        {
          "output_type": "stream",
          "name": "stdout",
          "text": [
            "    January 2024\n",
            "Mo Tu We Th Fr Sa Su\n",
            " 1  2  3  4  5  6  7\n",
            " 8  9 10 11 12 13 14\n",
            "15 16 17 18 19 20 21\n",
            "22 23 24 25 26 27 28\n",
            "29 30 31\n",
            "\n"
          ]
        }
      ]
    },
    {
      "cell_type": "code",
      "source": [
        "# Exercício 34\n",
        "\n",
        "import calendar\n",
        "ano = int(input('Ano: '))\n",
        "mes = int(input('Mês: '))\n",
        "print(calendar.month(ano, mes))\n"
      ],
      "metadata": {
        "colab": {
          "base_uri": "https://localhost:8080/"
        },
        "id": "miiQ-hFNwfr3",
        "outputId": "1650b2da-4d68-4bfe-9ee2-bf9bfca63e7c"
      },
      "execution_count": null,
      "outputs": [
        {
          "output_type": "stream",
          "name": "stdout",
          "text": [
            "Ano: 2024\n",
            "Mês: 1\n",
            "    January 2024\n",
            "Mo Tu We Th Fr Sa Su\n",
            " 1  2  3  4  5  6  7\n",
            " 8  9 10 11 12 13 14\n",
            "15 16 17 18 19 20 21\n",
            "22 23 24 25 26 27 28\n",
            "29 30 31\n",
            "\n"
          ]
        }
      ]
    },
    {
      "cell_type": "code",
      "source": [
        "# Exercício 35\n",
        "\n",
        "categoria = int(input('Digite a categoria do produto: '))\n",
        "if categoria == 1:\n",
        "  print('O preço do produto é: $ 0.5.')\n",
        "elif categoria == 2:\n",
        "  print('O preço do produto é: $ 11.3.')\n",
        "elif categoria == 3:\n",
        "  print('O preço do produto é: $ 17.5.')\n",
        "elif categoria == 4:\n",
        "  print('O preço do produto é: $ 33.97.')\n",
        "elif categoria == 5:\n",
        "  print('O preço do produto é: $ 103.47.')\n",
        "elif categoria == 6:\n",
        "  print('O preço do produto é: $ 44.67.')\n",
        "elif categoria == 7:\n",
        "  print('O preço do produto é: $ 12.55.')\n",
        "elif categoria == 8:\n",
        "  print('O preço do produto é: $ 14.87.')\n",
        "elif categoria == 9:\n",
        "  print('O preço do produto é: $ 98.12.')\n",
        "elif categoria == 10:\n",
        "  print('O preço do produto é: $ 131.4.')\n",
        "else:\n",
        "  print('Opção inválida.')\n"
      ],
      "metadata": {
        "colab": {
          "base_uri": "https://localhost:8080/"
        },
        "id": "wjyWi-ZZw-ol",
        "outputId": "439de5a4-04a7-4736-c823-2e1156541a44"
      },
      "execution_count": null,
      "outputs": [
        {
          "output_type": "stream",
          "name": "stdout",
          "text": [
            "Digite a categoria do produto: 11\n",
            "Opção inválida.\n"
          ]
        }
      ]
    },
    {
      "cell_type": "code",
      "source": [
        "# Exercício 36\n",
        "\n",
        "categoria = int(input('Categoria do produto: '))\n",
        "if categoria == 1:\n",
        "  print('Preço: $0.5')\n",
        "else:\n",
        "  if categoria == 2:\n",
        "    print('Preço: $11.35')\n",
        "  else:\n",
        "    if categoria == 3:\n",
        "      print('Preço: $17.5')\n",
        "    else:\n",
        "      if categoria == 4:\n",
        "        print('Preço: $33.97')\n",
        "      else:\n",
        "        if categoria == 5:\n",
        "          print('Preço: $103.47')\n",
        "        else:\n",
        "          if categoria == 6:\n",
        "            print('Preço: $44.67')\n",
        "          else:\n",
        "            if categoria == 7:\n",
        "              print('Preço: $12.55')\n",
        "            else:\n",
        "              if categoria == 8:\n",
        "                print('Preço: $14.87')\n",
        "              else:\n",
        "                print('Categoria inválida.')\n",
        ""
      ],
      "metadata": {
        "id": "nLTMWhGsyQRx",
        "colab": {
          "base_uri": "https://localhost:8080/"
        },
        "outputId": "736259db-7673-4436-919a-822e9df593b1"
      },
      "execution_count": 2,
      "outputs": [
        {
          "output_type": "stream",
          "name": "stdout",
          "text": [
            "Categoria do produto: 2\n",
            "Preço: $11.35\n"
          ]
        }
      ]
    },
    {
      "cell_type": "code",
      "source": [
        "# Exercício 37\n",
        "\n",
        "letra = input('Digite uma letra: ')\n",
        "vogais = ['a', 'e', 'i', 'o', 'u']\n",
        "if letra in vogais:\n",
        "  print('A letra digitada é uma vogal.')\n",
        "else:\n",
        "  print('A letra digitada é uma consoante.')\n",
        ""
      ],
      "metadata": {
        "colab": {
          "base_uri": "https://localhost:8080/"
        },
        "id": "pmfHNjMMd6kg",
        "outputId": "991af317-e34c-4c5a-cb4c-a8a2e0609b83"
      },
      "execution_count": 4,
      "outputs": [
        {
          "output_type": "stream",
          "name": "stdout",
          "text": [
            "Digite uma letra: b\n",
            "A letra digitada é uma consoante.\n"
          ]
        }
      ]
    },
    {
      "cell_type": "code",
      "source": [
        "# Exercício 38\n",
        "\n",
        "ladoa = float(input('Lado A: '))\n",
        "ladob = float(input('Lado B: '))\n",
        "ladoc = float(input('Lado C: '))\n",
        "if ladoa == ladob == ladoc:\n",
        "  print('O triângulo é equilátero.')\n",
        "elif ladoa == ladob or ladoa == ladoc or ladob == ladoc:\n",
        "  print('O triângulo é isósceles.')\n",
        "else:\n",
        "  print('O triângulo é escaleno.')\n",
        ""
      ],
      "metadata": {
        "colab": {
          "base_uri": "https://localhost:8080/"
        },
        "id": "_hppikWiezwE",
        "outputId": "d07e7bf6-1686-405d-bf14-720a69349456"
      },
      "execution_count": 8,
      "outputs": [
        {
          "output_type": "stream",
          "name": "stdout",
          "text": [
            "Lado A: 1\n",
            "Lado B: 2\n",
            "Lado C: 3\n",
            "O triângulo é escaleno.\n"
          ]
        }
      ]
    },
    {
      "cell_type": "code",
      "source": [
        "# Exercício 39\n",
        "\n",
        "operacao = input('Escolha a operação desejada (+, -, *, /): ')\n",
        "if operacao in ['+', '-', '/', '*']:\n",
        "  n1 = float(input('Número 1: '))\n",
        "  n2 = float(input('Número 2: '))\n",
        "  if operacao == '+':\n",
        "    print(f'{n1} + {n2} = { n1 + n2 }')\n",
        "  elif operacao == '-':\n",
        "    print(f'{n1} - {n2} = { n1 - n2 }')\n",
        "  elif operacao == '*':\n",
        "    print(f'{n1} * {n2} = { n1 * n2 }')\n",
        "  else:\n",
        "    if n2 == 0:\n",
        "      print('O denominador precisa ser diferente de zero.')\n",
        "    else:\n",
        "      print(f'{n1} / {n2} = { n1 / n2 }')\n",
        "else:\n",
        "  print('Opção inválida.')\n"
      ],
      "metadata": {
        "colab": {
          "base_uri": "https://localhost:8080/"
        },
        "id": "irBgoHG1fmvF",
        "outputId": "62c00285-86fe-4ddb-b1d3-103e7392103a"
      },
      "execution_count": 14,
      "outputs": [
        {
          "output_type": "stream",
          "name": "stdout",
          "text": [
            "Escolha a operação desejada (+, -, *, /): /\n",
            "Número 1: 4\n",
            "Número 2: 0\n",
            "O denominador precisa ser diferente de zero.\n"
          ]
        }
      ]
    },
    {
      "cell_type": "code",
      "source": [
        "# Exercício 40\n",
        "\n",
        "for n in range(1, 51):\n",
        "  print(n)\n"
      ],
      "metadata": {
        "colab": {
          "base_uri": "https://localhost:8080/"
        },
        "id": "NY_P-v0biDV2",
        "outputId": "e6a7b23e-4118-4ef1-ad93-5f6f9a0852db"
      },
      "execution_count": 16,
      "outputs": [
        {
          "output_type": "stream",
          "name": "stdout",
          "text": [
            "1\n",
            "2\n",
            "3\n",
            "4\n",
            "5\n",
            "6\n",
            "7\n",
            "8\n",
            "9\n",
            "10\n",
            "11\n",
            "12\n",
            "13\n",
            "14\n",
            "15\n",
            "16\n",
            "17\n",
            "18\n",
            "19\n",
            "20\n",
            "21\n",
            "22\n",
            "23\n",
            "24\n",
            "25\n",
            "26\n",
            "27\n",
            "28\n",
            "29\n",
            "30\n",
            "31\n",
            "32\n",
            "33\n",
            "34\n",
            "35\n",
            "36\n",
            "37\n",
            "38\n",
            "39\n",
            "40\n",
            "41\n",
            "42\n",
            "43\n",
            "44\n",
            "45\n",
            "46\n",
            "47\n",
            "48\n",
            "49\n",
            "50\n"
          ]
        }
      ]
    },
    {
      "cell_type": "code",
      "source": [
        "# Exercício 41\n",
        "\n",
        "for n in range(50, 0, -1):\n",
        "  print(n)"
      ],
      "metadata": {
        "colab": {
          "base_uri": "https://localhost:8080/"
        },
        "id": "AMglvkqSigCt",
        "outputId": "bed2fbaa-ba51-48ba-b97f-e40df4699750"
      },
      "execution_count": 21,
      "outputs": [
        {
          "output_type": "stream",
          "name": "stdout",
          "text": [
            "50\n",
            "49\n",
            "48\n",
            "47\n",
            "46\n",
            "45\n",
            "44\n",
            "43\n",
            "42\n",
            "41\n",
            "40\n",
            "39\n",
            "38\n",
            "37\n",
            "36\n",
            "35\n",
            "34\n",
            "33\n",
            "32\n",
            "31\n",
            "30\n",
            "29\n",
            "28\n",
            "27\n",
            "26\n",
            "25\n",
            "24\n",
            "23\n",
            "22\n",
            "21\n",
            "20\n",
            "19\n",
            "18\n",
            "17\n",
            "16\n",
            "15\n",
            "14\n",
            "13\n",
            "12\n",
            "11\n",
            "10\n",
            "9\n",
            "8\n",
            "7\n",
            "6\n",
            "5\n",
            "4\n",
            "3\n",
            "2\n",
            "1\n"
          ]
        }
      ]
    },
    {
      "cell_type": "code",
      "source": [
        "# Exercício 42\n",
        "\n",
        "for n in range(150, 201):\n",
        "  print(n)\n",
        ""
      ],
      "metadata": {
        "colab": {
          "base_uri": "https://localhost:8080/"
        },
        "id": "7G1X-a8UiufU",
        "outputId": "e54a4299-65b6-4a3f-95ca-4a7a5c69c7c5"
      },
      "execution_count": 22,
      "outputs": [
        {
          "output_type": "stream",
          "name": "stdout",
          "text": [
            "150\n",
            "151\n",
            "152\n",
            "153\n",
            "154\n",
            "155\n",
            "156\n",
            "157\n",
            "158\n",
            "159\n",
            "160\n",
            "161\n",
            "162\n",
            "163\n",
            "164\n",
            "165\n",
            "166\n",
            "167\n",
            "168\n",
            "169\n",
            "170\n",
            "171\n",
            "172\n",
            "173\n",
            "174\n",
            "175\n",
            "176\n",
            "177\n",
            "178\n",
            "179\n",
            "180\n",
            "181\n",
            "182\n",
            "183\n",
            "184\n",
            "185\n",
            "186\n",
            "187\n",
            "188\n",
            "189\n",
            "190\n",
            "191\n",
            "192\n",
            "193\n",
            "194\n",
            "195\n",
            "196\n",
            "197\n",
            "198\n",
            "199\n",
            "200\n"
          ]
        }
      ]
    },
    {
      "cell_type": "code",
      "source": [
        "# Exercício 43\n",
        "\n",
        "for n in range(5, -1, -1):\n",
        "  print(n)\n"
      ],
      "metadata": {
        "colab": {
          "base_uri": "https://localhost:8080/"
        },
        "id": "AAXFZlTWjE9c",
        "outputId": "e3ddbb7b-41b3-4f33-895e-87770edf5172"
      },
      "execution_count": 24,
      "outputs": [
        {
          "output_type": "stream",
          "name": "stdout",
          "text": [
            "5\n",
            "4\n",
            "3\n",
            "2\n",
            "1\n",
            "0\n"
          ]
        }
      ]
    },
    {
      "cell_type": "code",
      "source": [
        "# Exercício 44\n",
        "\n",
        "n = int(input('Digite um número: '))\n",
        "\n",
        "for valor in range( 1, n + 1 ):\n",
        "  print(valor)\n",
        ""
      ],
      "metadata": {
        "colab": {
          "base_uri": "https://localhost:8080/"
        },
        "id": "54VlqcVmjP4z",
        "outputId": "d3b632bc-31d9-4b6a-c6ca-f36697b620af"
      },
      "execution_count": 25,
      "outputs": [
        {
          "output_type": "stream",
          "name": "stdout",
          "text": [
            "Digite um número: 5\n",
            "1\n",
            "2\n",
            "3\n",
            "4\n",
            "5\n"
          ]
        }
      ]
    },
    {
      "cell_type": "code",
      "source": [
        "# Exercício 45\n",
        "\n",
        "lista = []\n",
        "x = 1\n",
        "\n",
        "# Armazenando os números na lista\n",
        "\n",
        "while len(lista) < 20:\n",
        "  if x % 5 == 0:\n",
        "    lista.append(x)\n",
        "    x+=1\n",
        "  x+=1\n",
        "\n",
        "# Mostrando os números na tela\n",
        "\n",
        "for n in lista:\n",
        "  print(n)\n",
        ""
      ],
      "metadata": {
        "colab": {
          "base_uri": "https://localhost:8080/"
        },
        "id": "lE8z01xKjqhs",
        "outputId": "b0c30e0b-c481-403b-d63b-55e786315640"
      },
      "execution_count": 27,
      "outputs": [
        {
          "output_type": "stream",
          "name": "stdout",
          "text": [
            "5\n",
            "10\n",
            "15\n",
            "20\n",
            "25\n",
            "30\n",
            "35\n",
            "40\n",
            "45\n",
            "50\n",
            "55\n",
            "60\n",
            "65\n",
            "70\n",
            "75\n",
            "80\n",
            "85\n",
            "90\n",
            "95\n",
            "100\n"
          ]
        }
      ]
    },
    {
      "cell_type": "code",
      "source": [
        "# Exercício 46\n",
        "\n",
        "valor = int(input('Tabuada: '))\n",
        "for n in range(1, 11):\n",
        "  print(f'{valor} x {n} = {valor * n}')\n",
        ""
      ],
      "metadata": {
        "colab": {
          "base_uri": "https://localhost:8080/"
        },
        "id": "Nrb7z3Qwj6ns",
        "outputId": "cd871672-e3dc-4017-e464-10748315f7ea"
      },
      "execution_count": 29,
      "outputs": [
        {
          "output_type": "stream",
          "name": "stdout",
          "text": [
            "Tabuada: 9\n",
            "9 x 1 = 9\n",
            "9 x 2 = 18\n",
            "9 x 3 = 27\n",
            "9 x 4 = 36\n",
            "9 x 5 = 45\n",
            "9 x 6 = 54\n",
            "9 x 7 = 63\n",
            "9 x 8 = 72\n",
            "9 x 9 = 81\n",
            "9 x 10 = 90\n"
          ]
        }
      ]
    },
    {
      "cell_type": "code",
      "source": [
        "# Exercício 47\n",
        "\n",
        "for valor in range(1, 11):\n",
        "  for numero in range(1, 11):\n",
        "    print(f'{valor} * {numero} = {valor * numero}')\n",
        ""
      ],
      "metadata": {
        "colab": {
          "base_uri": "https://localhost:8080/"
        },
        "id": "qYbBFbU8lCZ0",
        "outputId": "f51e0ddc-4632-4aa5-aa83-883eb8600c97"
      },
      "execution_count": 33,
      "outputs": [
        {
          "output_type": "stream",
          "name": "stdout",
          "text": [
            "1 * 1 = 1\n",
            "1 * 2 = 2\n",
            "1 * 3 = 3\n",
            "1 * 4 = 4\n",
            "1 * 5 = 5\n",
            "1 * 6 = 6\n",
            "1 * 7 = 7\n",
            "1 * 8 = 8\n",
            "1 * 9 = 9\n",
            "1 * 10 = 10\n",
            "2 * 1 = 2\n",
            "2 * 2 = 4\n",
            "2 * 3 = 6\n",
            "2 * 4 = 8\n",
            "2 * 5 = 10\n",
            "2 * 6 = 12\n",
            "2 * 7 = 14\n",
            "2 * 8 = 16\n",
            "2 * 9 = 18\n",
            "2 * 10 = 20\n",
            "3 * 1 = 3\n",
            "3 * 2 = 6\n",
            "3 * 3 = 9\n",
            "3 * 4 = 12\n",
            "3 * 5 = 15\n",
            "3 * 6 = 18\n",
            "3 * 7 = 21\n",
            "3 * 8 = 24\n",
            "3 * 9 = 27\n",
            "3 * 10 = 30\n",
            "4 * 1 = 4\n",
            "4 * 2 = 8\n",
            "4 * 3 = 12\n",
            "4 * 4 = 16\n",
            "4 * 5 = 20\n",
            "4 * 6 = 24\n",
            "4 * 7 = 28\n",
            "4 * 8 = 32\n",
            "4 * 9 = 36\n",
            "4 * 10 = 40\n",
            "5 * 1 = 5\n",
            "5 * 2 = 10\n",
            "5 * 3 = 15\n",
            "5 * 4 = 20\n",
            "5 * 5 = 25\n",
            "5 * 6 = 30\n",
            "5 * 7 = 35\n",
            "5 * 8 = 40\n",
            "5 * 9 = 45\n",
            "5 * 10 = 50\n",
            "6 * 1 = 6\n",
            "6 * 2 = 12\n",
            "6 * 3 = 18\n",
            "6 * 4 = 24\n",
            "6 * 5 = 30\n",
            "6 * 6 = 36\n",
            "6 * 7 = 42\n",
            "6 * 8 = 48\n",
            "6 * 9 = 54\n",
            "6 * 10 = 60\n",
            "7 * 1 = 7\n",
            "7 * 2 = 14\n",
            "7 * 3 = 21\n",
            "7 * 4 = 28\n",
            "7 * 5 = 35\n",
            "7 * 6 = 42\n",
            "7 * 7 = 49\n",
            "7 * 8 = 56\n",
            "7 * 9 = 63\n",
            "7 * 10 = 70\n",
            "8 * 1 = 8\n",
            "8 * 2 = 16\n",
            "8 * 3 = 24\n",
            "8 * 4 = 32\n",
            "8 * 5 = 40\n",
            "8 * 6 = 48\n",
            "8 * 7 = 56\n",
            "8 * 8 = 64\n",
            "8 * 9 = 72\n",
            "8 * 10 = 80\n",
            "9 * 1 = 9\n",
            "9 * 2 = 18\n",
            "9 * 3 = 27\n",
            "9 * 4 = 36\n",
            "9 * 5 = 45\n",
            "9 * 6 = 54\n",
            "9 * 7 = 63\n",
            "9 * 8 = 72\n",
            "9 * 9 = 81\n",
            "9 * 10 = 90\n",
            "10 * 1 = 10\n",
            "10 * 2 = 20\n",
            "10 * 3 = 30\n",
            "10 * 4 = 40\n",
            "10 * 5 = 50\n",
            "10 * 6 = 60\n",
            "10 * 7 = 70\n",
            "10 * 8 = 80\n",
            "10 * 9 = 90\n",
            "10 * 10 = 100\n"
          ]
        }
      ]
    },
    {
      "cell_type": "code",
      "source": [
        "# Exercício 48\n",
        "\n",
        "x = 1\n",
        "for i in range(1, 11):\n",
        "  print(i)\n",
        "  if i == 10:\n",
        "    while x <= 10:\n",
        "      print(x)\n",
        "      x+=1\n",
        "      if x == 11:\n",
        "        y = 1\n",
        "        while y <= 10:\n",
        "          print(y)\n",
        "          y+=1\n",
        "          if y == 11:\n",
        "            print('Fim.')\n",
        ""
      ],
      "metadata": {
        "colab": {
          "base_uri": "https://localhost:8080/"
        },
        "id": "HbgJFT1vlXgd",
        "outputId": "d63b0664-22af-4b9f-c4a3-936101d6f3d3"
      },
      "execution_count": 39,
      "outputs": [
        {
          "output_type": "stream",
          "name": "stdout",
          "text": [
            "1\n",
            "2\n",
            "3\n",
            "4\n",
            "5\n",
            "6\n",
            "7\n",
            "8\n",
            "9\n",
            "10\n",
            "1\n",
            "2\n",
            "3\n",
            "4\n",
            "5\n",
            "6\n",
            "7\n",
            "8\n",
            "9\n",
            "10\n",
            "1\n",
            "2\n",
            "3\n",
            "4\n",
            "5\n",
            "6\n",
            "7\n",
            "8\n",
            "9\n",
            "10\n",
            "Fim.\n"
          ]
        }
      ]
    },
    {
      "cell_type": "code",
      "source": [
        "# Exercício 49\n",
        "\n",
        "n = 0\n",
        "while 0 <= n <= 10:\n",
        "  n = int(input('Insira um número inteiro entre 0 e 10: '))\n",
        "  if n < 0 or n > 10:\n",
        "    print('Fim do programa.')\n",
        ""
      ],
      "metadata": {
        "colab": {
          "base_uri": "https://localhost:8080/"
        },
        "id": "_r3dgbmlmOu0",
        "outputId": "4757777f-8b9a-4096-a330-0d8ce941501a"
      },
      "execution_count": 41,
      "outputs": [
        {
          "output_type": "stream",
          "name": "stdout",
          "text": [
            "Insira um número inteiro entre 0 e 10: 7\n",
            "Insira um número inteiro entre 0 e 10: 6\n",
            "Insira um número inteiro entre 0 e 10: 5\n",
            "Insira um número inteiro entre 0 e 10: 4\n",
            "Insira um número inteiro entre 0 e 10: 3\n",
            "Insira um número inteiro entre 0 e 10: 2\n",
            "Insira um número inteiro entre 0 e 10: 1\n",
            "Insira um número inteiro entre 0 e 10: 0\n",
            "Insira um número inteiro entre 0 e 10: 11\n",
            "Fim do programa.\n"
          ]
        }
      ]
    },
    {
      "cell_type": "code",
      "source": [
        "# Exercício 50\n",
        "\n",
        "for i in range(0, 6):\n",
        "  print(i)\n",
        "\n",
        "  if i == 5:\n",
        "    for j in range(0, 6):\n",
        "      print(j)\n",
        "\n",
        "      if j == 5:\n",
        "        for k in range(0, 6):\n",
        "          print(k)\n",
        "\n",
        "        if k == 5:\n",
        "          for l in range(0, 6):\n",
        "            print(l)\n",
        "\n",
        "            if l == 5:\n",
        "              for m in range(0, 6):\n",
        "                print(m)\n",
        "\n",
        "                if m == 5:\n",
        "                  print('Fim do programa.')\n",
        ""
      ],
      "metadata": {
        "colab": {
          "base_uri": "https://localhost:8080/"
        },
        "id": "YOc7-o82nxbs",
        "outputId": "d242d8e3-b151-42e6-a342-ee85431bbddf"
      },
      "execution_count": 46,
      "outputs": [
        {
          "output_type": "stream",
          "name": "stdout",
          "text": [
            "0\n",
            "1\n",
            "2\n",
            "3\n",
            "4\n",
            "5\n",
            "0\n",
            "1\n",
            "2\n",
            "3\n",
            "4\n",
            "5\n",
            "0\n",
            "1\n",
            "2\n",
            "3\n",
            "4\n",
            "5\n",
            "0\n",
            "1\n",
            "2\n",
            "3\n",
            "4\n",
            "5\n",
            "0\n",
            "1\n",
            "2\n",
            "3\n",
            "4\n",
            "5\n",
            "Fim do programa.\n"
          ]
        }
      ]
    },
    {
      "cell_type": "code",
      "source": [],
      "metadata": {
        "id": "PsdLydM0oAXk"
      },
      "execution_count": null,
      "outputs": []
    }
  ]
}